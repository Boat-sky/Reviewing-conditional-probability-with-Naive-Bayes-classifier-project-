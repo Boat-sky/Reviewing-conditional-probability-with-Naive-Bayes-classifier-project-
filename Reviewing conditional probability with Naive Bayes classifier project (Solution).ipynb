{
 "cells": [
  {
   "cell_type": "markdown",
   "metadata": {
    "collapsed": true
   },
   "source": [
    "## เรียนเลขกับหมอมาร์ค : Conditional Probability\n",
    "### Reviewing conditional probability + A hands-on Naive bayes classifier project \n",
    "### *ต้องโหลดไปเปิดในเครื่องนะครับ ถึงจะมองเห็นสมการ"
   ]
  },
  {
   "cell_type": "markdown",
   "metadata": {},
   "source": [
    "*** สวัสดีครับ 22p23n0055-พุฒิพงศ์ นะครับ ***\n",
    "\n",
    "ก็วันนี้เราจะมาทบทวน/เรียนเรื่อง conditional probability กันนะครับ \n",
    "\n",
    "เพื่อให้สามารถที่จะนำไปใช้ได้จริง เราจะนำความรู้นี้มาประยุกต์ใช้เพื่อสร้าง Spam filter ซึ่งใช้หลักการ Multinomial Naive Bayes Classifier เพื่อมาใช้แยก message ว่าอันไหนเป็น spam หรือ non-spam ในตอนท้ายนะครับ :)\n",
    "\n",
    "ก็ต้องขอออกตัวก่อนนะครับ ว่าจริงๆแล้ว ผมก็ไม่ได้เป็นคนที่เก่งเลขหรือชอบเลขอะไร เวลาเรียนผมเลยพยายามจะเรียนในสิ่งที่จับต้องและสามารถนำมาใช้ประโยชน์ได้ 555 เลยทำเป็น hands-on project ขึ้นมา ซึ่งผมก็พึ่งรู้จัก Naive bayes จากการทำโปรเจคนี้เหมือนกัน หวังว่าเราจะได้เรียนรู้ไปพร้อมกันนะครับ\n",
    "\n",
    "สาเหตุที่เลือกเรื่อง probability มาก็เพราะ probability/stats, linear algebra, vector, matrix, cal เป็นเนื้อหาเลขที่จะต้องใช้ใน machine learning แต่คอร์สต่างๆมักจะสอนเน้น linear algebra กับ cal กันมากกว่า เช่น https://www.coursera.org/specializations/mathematics-machine-learning (กด audit เรียนฟรีได้) จึงอยากลองเรียน probability เพิ่มด้วยตัวเองครับ\n",
    "\n",
    "\n",
    "\n",
    "---\n",
    "\n",
    "\n",
    "เผื่อใครสงสัยว่าผมพิมพ์สมการเลขยังไงนะครับ \n",
    "\n",
    "A very nice tutorial on how to write math equations markdown :https://medium.com/analytics-vidhya/writing-math-equations-in-jupyter-notebook-a-naive-introduction-a5ce87b9a214"
   ]
  },
  {
   "cell_type": "markdown",
   "metadata": {},
   "source": [
    "### Conditional probability"
   ]
  },
  {
   "cell_type": "markdown",
   "metadata": {},
   "source": [
    "ทบทวนเรื่องความน่าจะเป็นกันก่อนนะครับ \n",
    "\n",
    "ในการทอยลูกเต๋า 1 ลูก ความเป็นไปได้ของการทอยลูกเต๋าได้แก่ 1,2,3,4,5,6 ซึ่งความเป็นไปได้ทั้งหมดของการสุ่มนี้ก็คือ sample space ($\\Omega$)\n",
    "\n",
    "<h4><center>$\n",
    "\\Omega = \\{1,2,3,4,5,6\\}\n",
    "$</center></h4>\n",
    "\n",
    "และจำนวนของสมาชิกใน set (total number of possible outcomes) จะใช้\n",
    "\n",
    "<h4><center>$\n",
    "cardinal(\\Omega) = 6 \\ หรือ \\ card (\\Omega) = 6\n",
    "$</center></h4>\n",
    "\n",
    "\n",
    "หากเราลองทอยลูกเต๋า โอกาสที่จะได้ทอยได้เลข 1 จากการทอยนี้ก็คือ \n",
    "\n",
    "<h3><center>\n",
    "$P(1) = \\frac{number \\ of \\ successful \\ outcomes}{total \\ number \\ of \\ possible \\ outcomes} = \\frac{1}{6}$\n",
    "</center></h3>\n",
    "\n",
    "ทีนี้ถ้าเกิดเราใส่เงื่อนไข (condition) ลงไปเช่น เราทอยลูกเต๋าเสร็จแล้วเอาฝามาครอบไว้ โดยรู้แค่ว่าหน้าที่สุ่มออกมาได้เป็นเลขคี่ (odd) จำนวนเลขที่เป็นไปได้จากการทอยครั้งนี้จะลดลงเหลือ card{1,3,5} = 3 และโอกาสที่จะทอยได้เลข 1 ในการทอยครั้งนี้คือ\n",
    "\n",
    "<h4><center>$\n",
    "P(1|odd) = \\frac{1}{3}\n",
    "$</center></h4>\n",
    "\n",
    "อ่านว่า probability of 1 given odd เพราะฉะนั้น\n",
    "<h3><center>$\n",
    "P(A|B) = \\frac{number \\ of  \\  successful \\  outcomes}{total \\  number \\  of \\  possible  \\ outcomes}\n",
    "$</center></h3>\n",
    "หากเราให้ condition A เป็นโอกาสที่จะทอยได้เลขคู่ {2,4,6} และ condition B เป็นโอกาสที่จะทอยได้มากกว่า 3 {4,5,6} เลขที่เป็นไปได้หากทอยได้เลขคู่เมื่อทอยได้เลขมากกว่า 3 คือ card{4,6} = 2\n",
    "\n",
    "<img src=\"https://elf11.github.io/images/Venn.png\">\n",
    "\n",
    "img credit: https://elf11.github.io/2015/05/06/conditional-probability.html\n",
    "\n",
    "\n",
    "เพราะฉะนั้นโอกาสที่เราจะทอยได้เลขคู่ card{4,6} เมื่อเราทอยได้มากกว่า 3 (card{4,5,6}) คือ\n",
    "<h3><center>$\n",
    "P(A|B) = \\frac{P(A \\cap B)}{P(B)} = \\frac{2}{3}\n",
    "$</center></h3>\n",
    "\n"
   ]
  },
  {
   "cell_type": "markdown",
   "metadata": {},
   "source": [
    "**Excercise**: เพื่อทบทวนความเข้าใจ สามารถไปฝึกทำโจทย์สั้นๆได้ในลิงค์นี้ครับ \n",
    "\n",
    "https://andymath.com/probability-with-dice/\n",
    "<img src=\"https://andymath.com/wp-content/uploads/2019/04/Dice-chart-288x300.jpg\">"
   ]
  },
  {
   "cell_type": "markdown",
   "metadata": {},
   "source": [
    "### Bayes's Theorem"
   ]
  },
  {
   "cell_type": "markdown",
   "metadata": {},
   "source": [
    "adapted from: https://sphweb.bumc.bu.edu/otlt/MPH-Modules/BS/BS704_Probability/BS704_Probability6.html\n",
    "\n",
    "สมมติเหตุการณ์: มีผู้ป่วยคนหนึ่งมาหาหมอเพื่อตรวจ HIV หมอเจาะเลือดไปตรวจโดยที่การตรวจนี้เชื่อถือได้ 99% - 99% ของผู้ที่เป็นจริงๆจะได้ผลเลือด + และ 99% ของผู้ที่ไม่ได้เป็นจริงๆได้ผลเลือด -. หาก 1% ของประชากรของประเทศเราเป็น HIV จริงๆ โอกาสที่ผู้ป่วยคนนี้จะเป็น HIV เมื่อผู้ป่วยตรวจได้ผลเลือด + มีกี่เปอร์เซ็นท์?\n",
    "\n",
    "assign variable `percent_HIV` below and check the answer. (eg. 1,..,100)"
   ]
  },
  {
   "cell_type": "code",
   "execution_count": 1,
   "metadata": {},
   "outputs": [],
   "source": [
    "percent_HIV = 0\n",
    "# เฉลยด้านล่าง"
   ]
  },
  {
   "cell_type": "markdown",
   "metadata": {},
   "source": [
    "หากจะตอบคำถามข้อนี้เราจะต้องมาทำความรู้จักกับ Bayes's Theorem กันก่อน\n",
    "\n",
    "<h3><center>$\n",
    "P(A|B) = \\frac{P(ฺB|A)*P(A)}{P(B)} \n",
    "$</center></h3>\n",
    "\n",
    "พิสูจน์สูตรจากความรู้เดิมของเรา\n",
    "\n",
    "<h4><center>$\n",
    "P(A|B) = \\frac{P(A \\cap B)}{P(B)} \\toสมการ1 \\ หรือ \\ P(B|A) = \\frac{P(B \\cap A)}{P(A)} \\toสมการ2\n",
    "$</center></h4>\n",
    "<h4><center>$\n",
    "ย้ายข้างสมการ 2 \\ P(B \\cap A) = P(B|A)*P(A) \n",
    "$</center></h4>\n",
    "<h4><center>$\n",
    "เนื่องจาก P(A \\cap B) = P(B \\cap A) \\ เพราะฉะนั้น \\ P(A \\cap B) = P(B|A)*P(A) \n",
    "$</center></h4>\n",
    "<h4><center>$\n",
    "นำ P(A \\cap B)\\ มาแทนค่าในสมการ1 จะได้ \\ P(A|B) = \\frac{P(ฺB|A)*P(A)}{P(B)} \n",
    "$</center></h4>\n",
    "\n"
   ]
  },
  {
   "cell_type": "markdown",
   "metadata": {},
   "source": [
    "จากเคสข้างบน หากเราสมมติว่าเรามีประชากรทั้งหมด 10,000 คน นำมาเขียนเป็น confusion matrix จะได้น่าตาแบบนี้\n",
    "\n",
    "|  |ป่วยจริง | ไม่ป่วย| | \n",
    "|----|----|----|----|\n",
    "| Test+| 99  | 99 | 198 |\n",
    "| Test- | 1  | 9801 |9802|\n",
    "|   | 100  |  9900 | 10000|\n",
    "\n",
    "***วิธีอ่าน***\n",
    "\n",
    "- row ล่างสุด โจทย์กำหนดให้มีคนป่วยในประชากรของเรา 1% หากกำหนดประชากร 10000 คนจะมีคนป่วย 1%*10000=100 คน และไม่ป่วย 9900 คน\n",
    "\n",
    "- column ป่วยจริง --> มีคนป่วยจริง 100 คน และใน 100 คนตรวจได้ผล + 99 คน และผล - (ลวง) 1 คน (โจทย์กำหนด)\n",
    "\n",
    "- column ไม่ป่วย --> ที่เหลือที่ม่ได้ป่วยมี 9900 คนจะตรวจเป็น - จริง 99% = 9801 คน เท่ากับมีอีก 99 คนที่ผลเป็น + ปลอม (โจทย์กำหนด)\n",
    "\n",
    "- **row Test + --> ในบรรดา test+ ทั้งหมดมี 198 คน โดย 99 คนป่วยจริงและได้ผล + และอีก 99 คนไม่ได้ป่วยแต่ได้ผล + ลวง**\n",
    "\n",
    "- row Test - --> ในบรรดา test- ทั้งหมดมี 9802 คน โดย 9801 คนไม่ป่วย และมี 1 คนที่จริงๆแล้วป่วยแต่ตรวจไม่พบ\n",
    "\n",
    "จากตารางข้างบนเราก็สามารถตอบได้แล้วนะครับว่า _หากผู้ป่วยผลตรวจเลือดเป็น + จะมีโอกาสป่วยจริง `99/(99+99) *100% = 50%`_\n",
    "\n",
    "---"
   ]
  },
  {
   "cell_type": "markdown",
   "metadata": {},
   "source": [
    "คราวนี้เราลองมาใช้สูตร Bayes's Theorem กันบ้างนะครับ\n",
    "\n",
    "***ทวนโจทย์***\n",
    "\n",
    "`โอกาสที่ผู้ป่วยคนนี้จะเป็น HIV เมื่อผู้ป่วยตรวจได้ผลเลือด +` = ถามว่า P(ป่วยจริง|Test+)=?\n",
    "\n",
    "P(ป่วยจริง|Test+) = P(Test+|ป่วยจริง) * P(ป่วยจริง)/P(Test+)\n",
    "\n",
    "ลองนำสูตรนี้ไปใช้โดยแทนค่าจากตารางนะครับ ตย."
   ]
  },
  {
   "cell_type": "code",
   "execution_count": 2,
   "metadata": {},
   "outputs": [
    {
     "name": "stdout",
     "output_type": "stream",
     "text": [
      "Ans = 50.0%, เฉลยคือ 50%\n"
     ]
    }
   ],
   "source": [
    "# แทนค่าใหม่แล้วลอง run ดูว่าได้ตรงเฉลยไหม?\n",
    "p_HIV = 100/10000\n",
    "p_test_pos = 198/10000\n",
    "p_test_pos_given_HIV = 99/100\n",
    "\n",
    "p_HIV_given_test_pos = p_test_pos_given_HIV*p_HIV/p_test_pos\n",
    "print(\"Ans = {}%, เฉลยคือ 50%\".format(p_HIV_given_test_pos*100))"
   ]
  },
  {
   "cell_type": "markdown",
   "metadata": {},
   "source": [
    "โจทย์ข้อ 2 (ทำเอง)\n",
    "\n",
    "โรค ก มี prevalence(ความชุก) 0.2% ในประชากร โดยเมื่อตรวจด้วย test หนึ่ง โอกาสตรวจ + เมื่อเป็นโรคจริงคือ 85% เมื่อตรวจทุกคนในประชากรพบว่า test+ 8% และ test- 92% เมื่อลองสร้างตาราง โดยกำหนดประชากร 100,000 คน จะได้ดังตาราง\n",
    "\n",
    "|   |Diseased | Not Diseased | |\n",
    "|----|----|----|----|\n",
    "| Test+| 170  | 7830 | 8000 |\n",
    "| Test- | 30  | 91970 |92000|\n",
    "|   | 200  |  99800 | 100000|\n",
    "\n",
    "จงหาโอกาสที่จะตรวจ + เมื่อไม่ได้เป็นโรคจริง P(Positive|No disease)"
   ]
  },
  {
   "cell_type": "code",
   "execution_count": null,
   "metadata": {},
   "outputs": [],
   "source": []
  },
  {
   "cell_type": "markdown",
   "metadata": {},
   "source": [
    "เฉลย 7.8%\n",
    "\n",
    "สามารถอ่านเฉลยเพิ่มเติมได้ที่นี่\n",
    "https://sphweb.bumc.bu.edu/otlt/MPH-Modules/BS/BS704_Probability/BS704_Probability6.html"
   ]
  },
  {
   "cell_type": "markdown",
   "metadata": {},
   "source": [
    "### Independence"
   ]
  },
  {
   "cell_type": "markdown",
   "metadata": {},
   "source": [
    "ทีนี้หากเราลองเพิ่มลูกเต๋าจาก 1 ลูกเป็น 2 ลูกแล้วทอยต่อเนื่องกัน จะได้ว่า\n",
    "\n",
    "Event A คือ การทอยลูกเต๋าลูกแรก ความเป็นไปได้ของลูกเต๋าลูกแรก ได้แก่ {1,2,3,4,5,6}\n",
    "Event B คือ การทอยลูกเต๋าลูกที่สอง ความเป็นไปได้ของลูกเต๋าลูกที่สอง ได้แก่ {1,2,3,4,5,6}\n",
    "\n",
    "โอกาสที่ลูกแรกจะได้แต้ม 6 = 1/6 และโอกาสที่ลูกที่สองจะได้ 6 ก็เท่ากันคือ 1/6\n",
    "และโอกาสที่จะทอยได้เลข 6 ทั้ง 2 ลูกก็คือ `1/6 * 1/6 = 36`\n",
    "เพราะฉะนั้นหากนำมาเขียนเป็นสมการ โดยให้\n",
    "\n",
    "- P(A) = 1/6\n",
    "- p(B) = 1/6\n",
    "- P(A $\\cap$ B) = 1/36\n",
    "\n",
    "จะพบว่า\n",
    "<h4><center>$\n",
    "P(A \\cap B) = P(A) * P(B) \\to 1\n",
    "$</center></h4>\n",
    "\n",
    "แต่ก่อนหน้านี้จากตอนเรียนเรื่อง Bayes Theorem ตอนที่เราพิสูจน์สูตร เราจะเห็นว่า\n",
    " \n",
    "<h4><center>$\n",
    "P(A \\cap B) = P(B|A)*P(A) \\to 2\n",
    "$</center></h4>\n",
    "\n",
    "หากเรานำ สมการทั้งสองมารวมกันเราจะพบว่า P(B) = P(B|A)\n",
    "\n",
    "สาเหตุที่เกิดแบบนี้ก็เพราะว่า `P(B|A)` (โอกาสที่จะเกิด event B เมื่อเกิด event A)  นั้นไม่ได้เกี่ยวข้องกัน (หากทอยลูกเต๋า A ได้ค่าอะไร ก็ไม่ได้ทำให้โอกาสการทอยลูกเต๋าแต่ละหน้าของ B เปลี่ยนแปลงไป ไม่ใช่ว่าจู่ๆ ทอย A ได้ 5 แล้วทอย B จะไม่มีโอกาสทอยได้ 5 อีก) เราเรียกความสัมพันธ์ะหว่าง A กับ B ว่า independent ต่อกันและกัน\n",
    "\n",
    "หากต้องการศึกษาเพิ่มเติมสามารถไปดูลิงค์นี้ได้ครับ https://keydifferences.com/difference-between-mutually-exclusive-and-independent-events.html \n",
    "\n",
    "ก็คือมีความสัมพันธ์แบบอื่นได้แก่ dependent(เช่น กรณีของ เมื่อ event A เป็นเลขคู่ และ event B เป็นเลขมากกว่า 3 ที่เคยพูดถึงด้านบน)\\ กับ mutually exclusive คือเหตุการณ์ที่เกิดพร้อมกันไม่ได้ เช่น การเอาแมวใส่กล่องแล้ว แมวในกล่องตาย (event A)และแมวในกล่องยังมีชีวิตอยู่ (event B) ไม่สามารถเกิดขึ้นพร้อมกันได้ (ยกเว้นถ้าเราไม่เปิดกล่องมาดู แล้วแมวเป็นแมวควอนตัม Schrödinger's cat 555) แต่ในเรื่อง Naive Bayes นี้ เรื่องของ independence สำคัญที่สุด\n",
    "\n",
    "\n",
    "<img src=\"https://keydifferences.com/wp-content/uploads/2016/05/mutually-exclusive-vs-independent-event.jpg\">\n"
   ]
  },
  {
   "cell_type": "markdown",
   "metadata": {},
   "source": [
    "### Naive Bayes"
   ]
  },
  {
   "cell_type": "markdown",
   "metadata": {},
   "source": [
    "ต่อไปเราจะมารู้จัก Naive Bayes และหลักการคัดแยก spam ออกจาก sms ก่อนที่จะไปเริ่มโปรเจคของเรานะครับ\n",
    "จากหลักการ conditional probability สิ่งที่เราอยากจะรู้ในการคัดแยกสแปมก็คือ ความน่าจะเป็นที่ เราจะได้รับสแปมเมื่อได้รับข้อความใหม่ และโอกาสที่จะได้รับข้อความที่ไม่ใช่สแปมเมื่อได้รับข้อความใหม่\n",
    "<h4><center>$\n",
    "P(spam|New \\ message) = ?\n",
    "\\\\\n",
    "P(non-spam|New \\ message) = ?\n",
    "$</center></h4>\n",
    "เมื่อเรา apply Bayes's Theorem จะได้ว่า\n",
    "\n",
    "<h4><center>$\n",
    "P(spam|New \\ message) = \\frac{P(spam)*P(New \\ message|spam)}{P(New \\ message)}\n",
    "\\\\\n",
    "P(non \\ spam|New \\ message) = \\frac{P(spam)*P(New \\ message|spam)}{P(New \\ message)} \n",
    "$</center></h4>\n",
    "\n",
    "การทำงานของ filter(classifier) ขึ้นกับการหากความน่าจะเป็นว่ามีโอกาสเป็น spam หรือ non-spam มากกว่ากัน หากอันใดมากกว่าก็จะ classify เป็นอันนั้น\n",
    "\n",
    "\n",
    "<h4><center>$\n",
    "P(spam|New \\ message) \\  [?]  \\ P(non \\ spam|New \\ message) \n",
    "\\\\เมื่อเครื่องหมาย \\ ?\\ หมายถึงเครืองหมาย <,>,=\n",
    "$</center></h4>\n",
    "\n",
    "**QUIZ ลองคำนวณเล่นๆ**"
   ]
  },
  {
   "cell_type": "code",
   "execution_count": 3,
   "metadata": {},
   "outputs": [],
   "source": [
    "# หากเราได้ข้อความใหม่มาโดย\n",
    "p_spam = 0.5\n",
    "p_non_spam = 0.5\n",
    "p_new_message = 0.5417\n",
    "p_new_message_given_spam = 0.75\n",
    "p_new_message_give_non_spam = 0.3334\n",
    "\n",
    "# จงหาค่าของ\n",
    "p_spam_given_new_message = 0\n",
    "p_non_spam_given_new_message = 0\n",
    "classification = \"spam or non-spam\" #ลองนำสองค่ามาเทียบกันว่าโอกาสอันไหนมากกว่า"
   ]
  },
  {
   "cell_type": "markdown",
   "metadata": {},
   "source": [
    "เฉลย 0.6922650913789921, 0.30773490862100794, 'spam'\n",
    "\n",
    "ข้อสังเกตคือ p_spam_given_new_message = 1-p_non_spam_given_new_message"
   ]
  },
  {
   "cell_type": "markdown",
   "metadata": {},
   "source": [
    "จากสมการที่แล้ว\n",
    "\n",
    "<h4><center>$\n",
    "P(spam|New \\ message) \\  [?]  \\ P(non \\ spam|New \\ message) \\\\ เมื่อเครื่องหมาย \\ ?\\ หมายถึงเครืองหมาย <,>,=\n",
    "$</center></h4>\n",
    "\n",
    "จะได้ว่า\n",
    "<h3><center>$\n",
    "\\frac{P(spam)*P(New \\ message|spam)}{P(New \\ message)} \\ [?] \\ \\frac{P(spam)*P(New \\ message|spam)}{P(New \\ message)} \n",
    "$</center></h3>\n",
    "\n",
    "เพื่อให้การคำนวณ Naive Bayes เร็วขึ้นเราจะทำการตัดตัวส่วนออกซึ่งเหมือนกันทั้งสองข้างของสมการทิ้ง ข้อควรระวังก็คือเมื่อทำแบบนี้จะทำให้ p_spam_given_new_message = 1-p_non_spam_given_new_message ใช้ไม่ได้อีกต่อไป (เราถึงต้องคำนวณทั้ง p_spam และ p_non_spam แยกกัน)\n",
    "\n",
    "เราจะได้ (สังเกตว่ามีการเปลี่ยนจากเครืองหมายจาก = เป็นเครื่องหมายแปรผันตรงกับ (proportional to, $\\propto$)\n",
    "\n",
    "<h4><center>$\n",
    "P(spam|New \\ message) \\propto P(spam)*P(New \\ message|spam)\n",
    "\\\\\n",
    "P(non \\ spam|New \\ message) \\propto P(spam)*P(New \\ message|spam)\n",
    "$</center></h4>\n",
    "\n",
    "สำหรับสมการ Bayes's เราจะคำนวณเสมือนว่า ∝ เป็นเครื่องหมาย = เสมอออ ***"
   ]
  },
  {
   "cell_type": "markdown",
   "metadata": {},
   "source": [
    "ต่อไปเราจะลองมาลงลึกจากระดับข้อความเป็นระดับคำในข้อความกันบ้าง\n",
    "\n",
    "ตัวอย่าง\n",
    "\n",
    "|   |Label |  SMS | \n",
    "|---|---|---|\n",
    "| 0| spam  | คาสิโน คาสิโน ไพ่ ไพ่ | \n",
    "| 1 | spam | ไพ่ ไพ่ บ้าน คาสิโน |\n",
    "| 2 | non-spam | แม่ ไป เล่น ไพ่ บ้าน โก |\n",
    "| 2 | ? | ไพ่|\n",
    "\n",
    "ถ้าเราอยากรู้ว่าโอกาสที่การที่มีคำว่า \"ไพ่\" อยู่ใน SMS จะทำให้มีโอกาสเป็น spam เท่าไหร่ จะได้ว่า\n",
    "<h4><center>$\n",
    "P(spam|\"ไพ่\") \\propto p(spam)*p(\"ไพ่\"|spam)\n",
    "$</center></h4>\n",
    "เพราะฉะนั้นเราจะต้องหา p(spam) และ p(\"ไพ่\"|spam) ซึ่งก็คือความน่าจะเป็นที่จะมีคำว่า 'ไพ่' เมื่อ SMS เป็นสแปม\n",
    "\n",
    "- p(spam): เนื่องจากเรามีข้อความใน database 3 ข้อความ โดยเป็น spam 2 ข้อความและ 1 ข้อความเป็น non-spam \n",
    "\n",
    "$\\therefore$ p(spam) = 2/3\n",
    "\n",
    "- p(\"ไพ่\"|spam): ความน่าจะเป็นที่จะมีคำว่า 'ไพ่' เมื่อ SMS เป็นสแปม - ก็ให้เราไปดู SMS ที่เป็น spam ทั้ง 2 ข้อความ ว่ามีคำว่าไพ่ปรากฎกี่ครั้งจากคำในสแปมทั้งหมด\n",
    "\n",
    "$\\therefore$ p(\"ไพ่\"|spam) = 4/8\n",
    "\n",
    "- P(spam|\"ไพ่\") = (2/3) * (4/8) = 0.3333 (ให้คูณไปตรงๆ คิดซะว่า $\\propto$ เป็นเครื่องหมาย = )\n",
    "\n",
    "**โจทย์**\n",
    "\n",
    "- p(non-spam) = ?\n",
    "- p(\"ไพ่\"|non-spam) = ?\n",
    "- p(non-spam|\"ไพ่\") = ?\n",
    "- เมื่อเทียบระหว่าง p(spam|\"ไพ่\") และ p(non-spam|\"ไพ่\"), classification = ?"
   ]
  },
  {
   "cell_type": "code",
   "execution_count": null,
   "metadata": {},
   "outputs": [],
   "source": []
  },
  {
   "cell_type": "markdown",
   "metadata": {},
   "source": [
    "เฉลย 1/3, 1/6, 1/18, \"spam\"\n"
   ]
  },
  {
   "cell_type": "markdown",
   "metadata": {},
   "source": [
    "สุดท้าย~ ในชีวิตจริงเราไม่ได้ดูแค่คำๆเดียวเพื่อที่จะบอกว่าข้อความเป็นสแปมหรือไม่ หากเราจะดูหลายๆคำพร้อมกัน เราจะต้องกลับไปสูตรก่อน Bayes Theorem\n",
    "\n",
    "<h3><center>$\n",
    "P(A|B) = \\frac{P(A \\cap B)}{P(B)}\n",
    "\\\\\n",
    "p(spam|entire \\ message) = \\frac{P(spam \\ \\cap \\ entire \\ message)}{P(entire \\ message)}\\\\\n",
    "\\\\\n",
    "P(spam|w1,w2,w3,w4) = \\frac{P( spam\\ \\cap \\ (w1,w2,w3,w4) )}{p(w1,w2,w3,w4)}\n",
    "\\\\\n",
    "P(spam|w1,w2,w3,w4) \\propto P(spam \\ \\cap \\ w1,w2,w3,w4)\n",
    "$</center></h3>\n",
    "\n",
    "โดยเราสามารถมอง w1,w2,w3,w4 เป็นแต่ละ event ได้ การที่ event เหล่านี้เกิดพร้อมกันก็คือ $ \\ w1 \\cap w2\\ \\cap w3 \\cap w4$\n",
    "\n",
    "นำไปแทนค่า\n",
    "<h4><center>$\n",
    "P(spam \\ \\cap \\ w1,w2,w3,w4) = P( spam \\cap  w1 \\cap w2\\ \\cap w3 \\cap w4) = P(w1 \\cap w2 \\cap w3 \\cap w4 \\cap spam)\n",
    "$</center></h4>\n",
    "จากสูตร \n",
    "<h4><center>$\n",
    "P(A \\cap B) = P(B|A)*P(A)\n",
    "$</center></h4>\n",
    "นำลงไปแทนค่าในสมการนี้จะได้ว่า\n",
    "<h4><center>$\n",
    "P(w1 \\cap w2 \\cap w3 \\cap w4 \\cap spam) = P(w1|w2∩w3∩w4∩Spam)⋅P(w2∩w3∩w4∩Spam)\\\\\n",
    "=P(w1|w2∩w3∩w4∩Spam)⋅P(w2|w3∩w4∩Spam)⋅P(w3∩w4∩Spam)\\\\\n",
    "=P(w1|w2∩w3∩w4∩Spam)⋅P(w2|w3∩w4∩Spam)⋅P(w3|w4∩Spam)⋅P(w4∩Spam)\\\\\n",
    "=P(w1|w2∩w3∩w4∩Spam)⋅P(w2|w3∩w4∩Spam)⋅P(w3|w4∩Spam)⋅P(w4|Spam)⋅P(Spam) \\to สมการ1\n",
    "$</center></h4>\n",
    "\n",
    "และทีนี้ หากเรา assume conditional independence ซึ่งหมายถึง การสมมติให้ความน่าจะเป็นในการเกิดแต่ละคำนั้นไม่ได้ส่งผลซึ่งกันและกัน เช่น การที่เริ่มคำด้วย \"กำ\" การสมมตินี้จะทำให้คำต่อมาจะเป็นคำว่าอะไรก็ได้และมีโอกาสเกิดขึ้นเท่าๆกันทุกคำ \n",
    "\n",
    "จากเรื่อง independence ข้างบน\n",
    "<h4><center>$\n",
    "P(A|B) = P(A) \\to \\ if \\  event \\ A \\ and \\ B \\ are \\ independent\n",
    "$</center></h4>\n",
    "เพราะฉะนั้น\n",
    "\n",
    "<h4><center>$\n",
    "P(w1|w2∩w3∩w4∩Spam)=P(w1|Spam) \\\\\n",
    "P(w2|w3∩w4∩Spam)=P(w2|Spam) \\\\\n",
    "P(w3|w4∩Spam)=P(w3|Spam) \\\\\n",
    "P(w4|Spam)=P(w4|Spam) \n",
    "$</center></h4>\n",
    "\n",
    "นำมาแทนค่าในสมการ1 จะได้สมการ Naive Bayes (AKA  simple Bayes or independence Bayes) ซักที เห้อออ\n",
    "\n",
    "<h4><center>$\n",
    "P(Spam|w1,w2,w3,w4)∝P(Spam)⋅P(w1|Spam)⋅P(w2|Spam)⋅P(w3|Spam)⋅P(w4|Spam)\n",
    "$</center></h4>\n",
    "แต่ในความเป็นจริง หากเราเริ่มต้นประโยคด้วย \"ไปไหนมา\" คนส่วนใหญ่ก็จะตอบว่า \"สามวาสองศอก\" - การสมมตินี้จึงไม่เป็นความจริง จึงเป็นที่มีของคำว่า 'Naive' = ซื่อๆตรงๆ ไร้เดียงสา\n",
    "\n",
    "<b> ปล. คำนวณเสมือนว่า ∝ เป็นเครื่องหมาย = , ตามเหตุผลที่ได้กล่าวถึงด้านบนครับ</b>\n",
    "\n",
    "อีกนิดนึงก็คือ เราสามารถใช้เครื่องหมาย pi ($\\Pi$) เพื่อแทนแทนคูณซ้ำๆไปเรื่อยๆได้เพราะฉะนั้นเราจะสามารถ simplify สมการข้างต้นเป็น\n",
    "<h3><center>$\n",
    "P(Spam|w1,w2,…,w_n)∝P(Spam)⋅ \\prod_{i=1}^{n}P(w_i|Spam)\n",
    "$</center></h3>\n",
    "\n"
   ]
  },
  {
   "cell_type": "markdown",
   "metadata": {},
   "source": [
    "### Smoothing parameter (Laplace smoothing)\n",
    "เมื่อเรานำสมการ Naive Bayes นี้ไปใช้เราจะพบว่า บางครั้ง $𝑃(𝑤_x|𝑆𝑝𝑎𝑚)$ ไม่อยู่ใน vocabulary (dataset ที่นำมาใช้ train) เช่น จู่ๆก็มีคำภาษาจีนเข้ามา \"你\"\n",
    "\n",
    "<h3><center>$\n",
    "P(\"你\"|Spam)= \\frac{จำนวนคำว่า \"你\"}{จำนวนข้อความ spam} = \\frac{0}{N\\ spam} = 0\n",
    "$</center></h3>\n",
    "ซึ่งจะทำให้  `𝑃(𝑆𝑝𝑎𝑚|𝑤1,𝑤2,𝑤3,𝑤4) = 0` ไปด้วย (เพราะ 0 * x = 0) ทั้งที่ๆจริงๆแล้วมันอาจจะเป็นสแปม \n",
    "\n",
    "ด้วยเหตุนี้เราจึงต้องมีการทำ smoothing เพิ่มเติมก็คือการ +α เข้าไปที่เศษ (numerator) และ +α* N_vocab เข้าไปที่ส่วน (denominator) ของทุก P(x|Spam) โดยเราจะให้ α = 1 การทำแบบนี้เรียกว่า Laplace smoothing หรือ additive smoothing/ add-one smoothing นั่นเอง\n",
    "\n",
    "***ข้อสังเกตคือ N_vocab คือจำนวน unique word ทั้งหมดใน dataset ของเรา (รวมทั้งหมด ทั้ง spam และ non-spam)***\n",
    "<h3><center>$\n",
    "P(word|Spam)= \\frac{Nword|Spam+α}{Nspam+α⋅Nvocabulary}\\ ก็คือ \\\\ \n",
    "P(word|Spam)= \\frac{Nword|Spam+1}{Nspam+1⋅Nvocabulary}\n",
    "$</center></h3>\n",
    "\n"
   ]
  },
  {
   "cell_type": "markdown",
   "metadata": {},
   "source": [
    "***Quiz สุดท้ายก่อนเริ่ม Project ***\n",
    "\n",
    "เอาโจทย์มาจาก https://medium.com/syncedreview/applying-multinomial-naive-bayes-to-nlp-problems-a-practical-explanation-4f5271768ebf (สามารถอ่านเพื่อทำความเข้าใจเพิ่มเติมได้นะครับ)\n",
    "\n",
    "\n",
    "|Text | category | \n",
    "|---|---|\n",
    "| \"A great game\" |  sports | \n",
    "| \"The election was over\" |  not sports |\n",
    "| \"Very clean match\" |  sports |\n",
    "| \"A clean but forgettable game\" |  sports|\n",
    "| \"It was a close election\" |  not sports|\n",
    "\n",
    "จาก dataset เราพบว่ามีคำที่ไม่ซ้ำกันทั้งหมด 14 คำ ได้แก่ [\"a\",\"great\",\"game\",\"the\",\"election\",\"was\",\"over\",\"very\",\"clean\",\"match\",\"but\",\"forgettable\",\"it\",\"close\"]\n",
    "\n",
    "$\\therefore Nvocab = 14$"
   ]
  },
  {
   "cell_type": "markdown",
   "metadata": {},
   "source": [
    "คำนวณ laplace smoothing\n",
    "<img src=\"https://miro.medium.com/max/861/0*xzhlJtaLf-YvctCt.png\">\n",
    "\n",
    "*** ข้อสังเกต Nword|spam นับจำนวนคำทั้งหมดใน spam ไม่ใช่แค่ unique words\n",
    "\n",
    "โจทย์: คำนวณ \n",
    "- p(\"election\"|sports) กับ p(\"election\"|not sports)\n",
    "- p(\"match\"|sports) กับ p(\"match\"|not sports)"
   ]
  },
  {
   "cell_type": "code",
   "execution_count": null,
   "metadata": {},
   "outputs": [],
   "source": [
    "\n",
    "\n",
    "\n",
    "\n",
    "\n",
    "\n",
    "\n",
    "\n",
    "\n"
   ]
  },
  {
   "cell_type": "markdown",
   "metadata": {},
   "source": [
    "เฉลย \n",
    "- p(\"election\"|sports) = (0+1)/(11+14), p(\"election\"|not sports) = (2+1)/(9+14)\n",
    "\n",
    "--> classification = not sports\n",
    "- p(\"match\"|sports) = (1+1)/(11+14), p(\"match\"|not sports) = (0+1)/(9+14)\n",
    "\n",
    "--> classification = sports\n"
   ]
  },
  {
   "cell_type": "markdown",
   "metadata": {},
   "source": [
    "### Project: Spam Filter Using Naive Bayes Classifier\n",
    "Dataset: ก่อนอื่นไปโหลด spam data ได้จากลิงค์นี้ครับ\n",
    "https://archive.ics.uci.edu/ml/datasets/sms+spam+collection\n",
    "\n",
    "Dataset นี้จะประกอบไปด้วย label (spam กับ ham เมื่อ ham หมายถึง non-spam) กับ SMS ซึ่งเก็บข้อมูลตัวข้อความเป็น string, จำนวน message ข้างใน dataset นี้มีทั้งหมด 5000+ ข้อความ"
   ]
  },
  {
   "cell_type": "code",
   "execution_count": 4,
   "metadata": {},
   "outputs": [],
   "source": [
    "import pandas as pd\n",
    "\n",
    "sms = pd.read_csv(\"SMSSpamCollection\", sep='\\t',header=None, names=['Label', 'SMS'])\n",
    "# \\t คือการใช้ tab (space) เป็น delimiter, file นี้ไม่ใช่ csv นะ.."
   ]
  },
  {
   "cell_type": "code",
   "execution_count": 5,
   "metadata": {
    "scrolled": true
   },
   "outputs": [
    {
     "data": {
      "text/html": [
       "<div>\n",
       "<style scoped>\n",
       "    .dataframe tbody tr th:only-of-type {\n",
       "        vertical-align: middle;\n",
       "    }\n",
       "\n",
       "    .dataframe tbody tr th {\n",
       "        vertical-align: top;\n",
       "    }\n",
       "\n",
       "    .dataframe thead th {\n",
       "        text-align: right;\n",
       "    }\n",
       "</style>\n",
       "<table border=\"1\" class=\"dataframe\">\n",
       "  <thead>\n",
       "    <tr style=\"text-align: right;\">\n",
       "      <th></th>\n",
       "      <th>Label</th>\n",
       "      <th>SMS</th>\n",
       "    </tr>\n",
       "  </thead>\n",
       "  <tbody>\n",
       "    <tr>\n",
       "      <th>0</th>\n",
       "      <td>ham</td>\n",
       "      <td>Go until jurong point, crazy.. Available only ...</td>\n",
       "    </tr>\n",
       "    <tr>\n",
       "      <th>1</th>\n",
       "      <td>ham</td>\n",
       "      <td>Ok lar... Joking wif u oni...</td>\n",
       "    </tr>\n",
       "    <tr>\n",
       "      <th>2</th>\n",
       "      <td>spam</td>\n",
       "      <td>Free entry in 2 a wkly comp to win FA Cup fina...</td>\n",
       "    </tr>\n",
       "    <tr>\n",
       "      <th>3</th>\n",
       "      <td>ham</td>\n",
       "      <td>U dun say so early hor... U c already then say...</td>\n",
       "    </tr>\n",
       "    <tr>\n",
       "      <th>4</th>\n",
       "      <td>ham</td>\n",
       "      <td>Nah I don't think he goes to usf, he lives aro...</td>\n",
       "    </tr>\n",
       "    <tr>\n",
       "      <th>5</th>\n",
       "      <td>spam</td>\n",
       "      <td>FreeMsg Hey there darling it's been 3 week's n...</td>\n",
       "    </tr>\n",
       "    <tr>\n",
       "      <th>6</th>\n",
       "      <td>ham</td>\n",
       "      <td>Even my brother is not like to speak with me. ...</td>\n",
       "    </tr>\n",
       "    <tr>\n",
       "      <th>7</th>\n",
       "      <td>ham</td>\n",
       "      <td>As per your request 'Melle Melle (Oru Minnamin...</td>\n",
       "    </tr>\n",
       "    <tr>\n",
       "      <th>8</th>\n",
       "      <td>spam</td>\n",
       "      <td>WINNER!! As a valued network customer you have...</td>\n",
       "    </tr>\n",
       "    <tr>\n",
       "      <th>9</th>\n",
       "      <td>spam</td>\n",
       "      <td>Had your mobile 11 months or more? U R entitle...</td>\n",
       "    </tr>\n",
       "  </tbody>\n",
       "</table>\n",
       "</div>"
      ],
      "text/plain": [
       "  Label                                                SMS\n",
       "0   ham  Go until jurong point, crazy.. Available only ...\n",
       "1   ham                      Ok lar... Joking wif u oni...\n",
       "2  spam  Free entry in 2 a wkly comp to win FA Cup fina...\n",
       "3   ham  U dun say so early hor... U c already then say...\n",
       "4   ham  Nah I don't think he goes to usf, he lives aro...\n",
       "5  spam  FreeMsg Hey there darling it's been 3 week's n...\n",
       "6   ham  Even my brother is not like to speak with me. ...\n",
       "7   ham  As per your request 'Melle Melle (Oru Minnamin...\n",
       "8  spam  WINNER!! As a valued network customer you have...\n",
       "9  spam  Had your mobile 11 months or more? U R entitle..."
      ]
     },
     "execution_count": 5,
     "metadata": {},
     "output_type": "execute_result"
    }
   ],
   "source": [
    "sms[:10]"
   ]
  },
  {
   "cell_type": "markdown",
   "metadata": {},
   "source": [
    "ปล. ham = non-spam,\n",
    "\n",
    "ต่อไปเราจะหา percentage ของ ham กับ spam "
   ]
  },
  {
   "cell_type": "code",
   "execution_count": 6,
   "metadata": {},
   "outputs": [
    {
     "name": "stdout",
     "output_type": "stream",
     "text": [
      "The percentage of ham and spam are 86.59368269921033% and 13.406317300789667%, respectively\n"
     ]
    }
   ],
   "source": [
    "percent_ham = (sms[sms['Label']=='ham'].shape[0]/sms.shape[0])*100\n",
    "percent_spam = 100-percent_ham\n",
    "\n",
    "print(\"The percentage of ham and spam are {}% and {}%, respectively\".format(percent_ham,percent_spam))"
   ]
  },
  {
   "cell_type": "markdown",
   "metadata": {},
   "source": [
    "แบ่ง data ของเราเป็น training set กับ test set โดย random โดยใช้เอัตราส่วน 80% (4458) สำหรับ training และ 20%(1114) สำหรับ testing"
   ]
  },
  {
   "cell_type": "code",
   "execution_count": 7,
   "metadata": {},
   "outputs": [
    {
     "data": {
      "text/html": [
       "<div>\n",
       "<style scoped>\n",
       "    .dataframe tbody tr th:only-of-type {\n",
       "        vertical-align: middle;\n",
       "    }\n",
       "\n",
       "    .dataframe tbody tr th {\n",
       "        vertical-align: top;\n",
       "    }\n",
       "\n",
       "    .dataframe thead th {\n",
       "        text-align: right;\n",
       "    }\n",
       "</style>\n",
       "<table border=\"1\" class=\"dataframe\">\n",
       "  <thead>\n",
       "    <tr style=\"text-align: right;\">\n",
       "      <th></th>\n",
       "      <th>index</th>\n",
       "      <th>Label</th>\n",
       "      <th>SMS</th>\n",
       "    </tr>\n",
       "  </thead>\n",
       "  <tbody>\n",
       "    <tr>\n",
       "      <th>0</th>\n",
       "      <td>1078</td>\n",
       "      <td>ham</td>\n",
       "      <td>Yep, by the pretty sculpture</td>\n",
       "    </tr>\n",
       "    <tr>\n",
       "      <th>1</th>\n",
       "      <td>4028</td>\n",
       "      <td>ham</td>\n",
       "      <td>Yes, princess. Are you going to make me moan?</td>\n",
       "    </tr>\n",
       "    <tr>\n",
       "      <th>2</th>\n",
       "      <td>958</td>\n",
       "      <td>ham</td>\n",
       "      <td>Welp apparently he retired</td>\n",
       "    </tr>\n",
       "    <tr>\n",
       "      <th>3</th>\n",
       "      <td>4642</td>\n",
       "      <td>ham</td>\n",
       "      <td>Havent.</td>\n",
       "    </tr>\n",
       "    <tr>\n",
       "      <th>4</th>\n",
       "      <td>4674</td>\n",
       "      <td>ham</td>\n",
       "      <td>I forgot 2 ask ü all smth.. There's a card on ...</td>\n",
       "    </tr>\n",
       "  </tbody>\n",
       "</table>\n",
       "</div>"
      ],
      "text/plain": [
       "   index Label                                                SMS\n",
       "0   1078   ham                       Yep, by the pretty sculpture\n",
       "1   4028   ham      Yes, princess. Are you going to make me moan?\n",
       "2    958   ham                         Welp apparently he retired\n",
       "3   4642   ham                                            Havent.\n",
       "4   4674   ham  I forgot 2 ask ü all smth.. There's a card on ..."
      ]
     },
     "execution_count": 7,
     "metadata": {},
     "output_type": "execute_result"
    }
   ],
   "source": [
    "sms = sms.sample(frac=1, random_state = 1) #frac คือ fraction ถ้า random ทั้งหมด frac=1\n",
    "train = sms[:4458].reset_index() #reset index เพื่อให้มันจัดเรียงตามปกติ\n",
    "test = sms[4458:].reset_index()\n",
    "train.head()"
   ]
  },
  {
   "cell_type": "markdown",
   "metadata": {},
   "source": [
    "เช็ค percentage อีกรอบ"
   ]
  },
  {
   "cell_type": "code",
   "execution_count": 8,
   "metadata": {
    "scrolled": true
   },
   "outputs": [
    {
     "name": "stdout",
     "output_type": "stream",
     "text": [
      "The percentage of ham and spam for training set are 86.54104979811575% and 13.45895020188425%, respectively\n"
     ]
    }
   ],
   "source": [
    "percent_ham = (train[train['Label']=='ham'].shape[0]/train.shape[0])*100\n",
    "percent_spam = 100-percent_ham\n",
    "print(\"The percentage of ham and spam for training set are {}% and {}%, respectively\".format(percent_ham,percent_spam))"
   ]
  },
  {
   "cell_type": "markdown",
   "metadata": {},
   "source": [
    "### Clean"
   ]
  },
  {
   "cell_type": "markdown",
   "metadata": {},
   "source": [
    "ต่อไปเราจะ clean data เฉพาะตัว training set ให้เหลือแต่ a-z (ตัวพิมพ์เล็ก) กับตัวเลข โดยใช้ Series.str.replace() method\n",
    "\n",
    "ปล. `\\W` หมายถึงทุกตัวที่ไม่ใช่ a-z, A-Z or 0-9. `\\d+` สำหรับเลข (ถ้าจะเอาเลขออกด้วย)"
   ]
  },
  {
   "cell_type": "code",
   "execution_count": 9,
   "metadata": {},
   "outputs": [
    {
     "data": {
      "text/html": [
       "<div>\n",
       "<style scoped>\n",
       "    .dataframe tbody tr th:only-of-type {\n",
       "        vertical-align: middle;\n",
       "    }\n",
       "\n",
       "    .dataframe tbody tr th {\n",
       "        vertical-align: top;\n",
       "    }\n",
       "\n",
       "    .dataframe thead th {\n",
       "        text-align: right;\n",
       "    }\n",
       "</style>\n",
       "<table border=\"1\" class=\"dataframe\">\n",
       "  <thead>\n",
       "    <tr style=\"text-align: right;\">\n",
       "      <th></th>\n",
       "      <th>index</th>\n",
       "      <th>Label</th>\n",
       "      <th>SMS</th>\n",
       "    </tr>\n",
       "  </thead>\n",
       "  <tbody>\n",
       "    <tr>\n",
       "      <th>0</th>\n",
       "      <td>1078</td>\n",
       "      <td>ham</td>\n",
       "      <td>yep  by the pretty sculpture</td>\n",
       "    </tr>\n",
       "    <tr>\n",
       "      <th>1</th>\n",
       "      <td>4028</td>\n",
       "      <td>ham</td>\n",
       "      <td>yes  princess  are you going to make me moan</td>\n",
       "    </tr>\n",
       "    <tr>\n",
       "      <th>2</th>\n",
       "      <td>958</td>\n",
       "      <td>ham</td>\n",
       "      <td>welp apparently he retired</td>\n",
       "    </tr>\n",
       "    <tr>\n",
       "      <th>3</th>\n",
       "      <td>4642</td>\n",
       "      <td>ham</td>\n",
       "      <td>havent</td>\n",
       "    </tr>\n",
       "    <tr>\n",
       "      <th>4</th>\n",
       "      <td>4674</td>\n",
       "      <td>ham</td>\n",
       "      <td>i forgot 2 ask ü all smth   there s a card on ...</td>\n",
       "    </tr>\n",
       "  </tbody>\n",
       "</table>\n",
       "</div>"
      ],
      "text/plain": [
       "   index Label                                                SMS\n",
       "0   1078   ham                       yep  by the pretty sculpture\n",
       "1   4028   ham      yes  princess  are you going to make me moan \n",
       "2    958   ham                         welp apparently he retired\n",
       "3   4642   ham                                            havent \n",
       "4   4674   ham  i forgot 2 ask ü all smth   there s a card on ..."
      ]
     },
     "execution_count": 9,
     "metadata": {},
     "output_type": "execute_result"
    }
   ],
   "source": [
    "train[\"SMS\"] = train[\"SMS\"].str.replace(\"\\W\", \" \").str.lower()\n",
    "train[:5]"
   ]
  },
  {
   "cell_type": "markdown",
   "metadata": {},
   "source": [
    "แยกแต่ละ message ใน column SMS ให้เป็นคำๆ (ใช้ Series.str.split()) ให้ row เป็น แต่ละ message และคำใน message เป็น column ใส่จำนวนที่ปรากฎลงไปในแต่ละช่อง เช่น\n",
    "\n",
    "`SMS1 = \"i love you\"`\n",
    "\n",
    "`SMS2 = \"you and I\"`\n",
    "\n",
    "|  index | label  | I  |u   |love |\n",
    "|---|---|---|---|---|\n",
    "| 1  | ham  |  1 |0   |1   |\n",
    "| 2  | ham  | 1  |0   |0   |\n",
    "|   |   |   |   |   |\n",
    "\n",
    "\"bag of words\" https://en.wikipedia.org/wiki/Bag-of-words_model"
   ]
  },
  {
   "cell_type": "code",
   "execution_count": 10,
   "metadata": {},
   "outputs": [
    {
     "name": "stdout",
     "output_type": "stream",
     "text": [
      "7783\n"
     ]
    }
   ],
   "source": [
    "vocabulary = []\n",
    "train[\"SMS\"] = train[\"SMS\"].str.split()\n",
    "for message in train[\"SMS\"]:\n",
    "    for word in message:\n",
    "        vocabulary.append(word)\n",
    "vocabulary = list(set(vocabulary))  #set จะตัดคำซ้ำออกเหลือแต่ unique words\n",
    "print(len(vocabulary))"
   ]
  },
  {
   "cell_type": "markdown",
   "metadata": {},
   "source": [
    "ต่อไปเราจะเีขยน Dictionary ขึ้นมาเพื่อเก็บข้อมูลจำนวนครั้งที่แต่ละคำปรากฎใน SMS\n",
    "เช่น คำว่า love ปรากฏทั้งหมด 2 ครั้งใน sms1, 0 ครั้งใน sms 2, 3 ครั้งใน sms3\n",
    "\n",
    "`{\"love\": [2,0,3]}`\n",
    "\n",
    "แล้ว convert กลับไปเป็น dataframe จะพบว่าจะได้\n",
    "\n",
    "| index | love | \n",
    "|----|----|\n",
    "| 1  | 2  |\n",
    "| 2  | 0  | \n",
    "| 3  | 3  | "
   ]
  },
  {
   "cell_type": "code",
   "execution_count": 11,
   "metadata": {},
   "outputs": [],
   "source": [
    "word_counts_per_sms = {word:[0]*len(train[\"SMS\"]) for word in vocabulary }"
   ]
  },
  {
   "cell_type": "code",
   "execution_count": 12,
   "metadata": {},
   "outputs": [],
   "source": [
    "for i,message in enumerate(train[\"SMS\"]):\n",
    "    for word in message:\n",
    "        word_counts_per_sms[word][i] +=1"
   ]
  },
  {
   "cell_type": "code",
   "execution_count": 13,
   "metadata": {},
   "outputs": [],
   "source": [
    "counts = pd.DataFrame(word_counts_per_sms)"
   ]
  },
  {
   "cell_type": "code",
   "execution_count": 14,
   "metadata": {},
   "outputs": [
    {
     "data": {
      "text/plain": [
       "(4458, 7783)"
      ]
     },
     "execution_count": 14,
     "metadata": {},
     "output_type": "execute_result"
    }
   ],
   "source": [
    "counts.head()\n",
    "counts.shape"
   ]
  },
  {
   "cell_type": "code",
   "execution_count": 15,
   "metadata": {},
   "outputs": [],
   "source": [
    "train = pd.concat([train,counts], axis = 1)"
   ]
  },
  {
   "cell_type": "code",
   "execution_count": 16,
   "metadata": {},
   "outputs": [
    {
     "data": {
      "text/html": [
       "<div>\n",
       "<style scoped>\n",
       "    .dataframe tbody tr th:only-of-type {\n",
       "        vertical-align: middle;\n",
       "    }\n",
       "\n",
       "    .dataframe tbody tr th {\n",
       "        vertical-align: top;\n",
       "    }\n",
       "\n",
       "    .dataframe thead th {\n",
       "        text-align: right;\n",
       "    }\n",
       "</style>\n",
       "<table border=\"1\" class=\"dataframe\">\n",
       "  <thead>\n",
       "    <tr style=\"text-align: right;\">\n",
       "      <th></th>\n",
       "      <th>index</th>\n",
       "      <th>Label</th>\n",
       "      <th>SMS</th>\n",
       "      <th>duvet</th>\n",
       "      <th>every1</th>\n",
       "      <th>kit</th>\n",
       "      <th>evrey</th>\n",
       "      <th>lady</th>\n",
       "      <th>evry1</th>\n",
       "      <th>didnt</th>\n",
       "      <th>...</th>\n",
       "      <th>family</th>\n",
       "      <th>responsibility</th>\n",
       "      <th>slacking</th>\n",
       "      <th>yeh</th>\n",
       "      <th>express</th>\n",
       "      <th>insurance</th>\n",
       "      <th>starshine</th>\n",
       "      <th>finn</th>\n",
       "      <th>yay</th>\n",
       "      <th>spice</th>\n",
       "    </tr>\n",
       "  </thead>\n",
       "  <tbody>\n",
       "    <tr>\n",
       "      <th>0</th>\n",
       "      <td>1078</td>\n",
       "      <td>ham</td>\n",
       "      <td>[yep, by, the, pretty, sculpture]</td>\n",
       "      <td>0</td>\n",
       "      <td>0</td>\n",
       "      <td>0</td>\n",
       "      <td>0</td>\n",
       "      <td>0</td>\n",
       "      <td>0</td>\n",
       "      <td>0</td>\n",
       "      <td>...</td>\n",
       "      <td>0</td>\n",
       "      <td>0</td>\n",
       "      <td>0</td>\n",
       "      <td>0</td>\n",
       "      <td>0</td>\n",
       "      <td>0</td>\n",
       "      <td>0</td>\n",
       "      <td>0</td>\n",
       "      <td>0</td>\n",
       "      <td>0</td>\n",
       "    </tr>\n",
       "    <tr>\n",
       "      <th>1</th>\n",
       "      <td>4028</td>\n",
       "      <td>ham</td>\n",
       "      <td>[yes, princess, are, you, going, to, make, me,...</td>\n",
       "      <td>0</td>\n",
       "      <td>0</td>\n",
       "      <td>0</td>\n",
       "      <td>0</td>\n",
       "      <td>0</td>\n",
       "      <td>0</td>\n",
       "      <td>0</td>\n",
       "      <td>...</td>\n",
       "      <td>0</td>\n",
       "      <td>0</td>\n",
       "      <td>0</td>\n",
       "      <td>0</td>\n",
       "      <td>0</td>\n",
       "      <td>0</td>\n",
       "      <td>0</td>\n",
       "      <td>0</td>\n",
       "      <td>0</td>\n",
       "      <td>0</td>\n",
       "    </tr>\n",
       "    <tr>\n",
       "      <th>2</th>\n",
       "      <td>958</td>\n",
       "      <td>ham</td>\n",
       "      <td>[welp, apparently, he, retired]</td>\n",
       "      <td>0</td>\n",
       "      <td>0</td>\n",
       "      <td>0</td>\n",
       "      <td>0</td>\n",
       "      <td>0</td>\n",
       "      <td>0</td>\n",
       "      <td>0</td>\n",
       "      <td>...</td>\n",
       "      <td>0</td>\n",
       "      <td>0</td>\n",
       "      <td>0</td>\n",
       "      <td>0</td>\n",
       "      <td>0</td>\n",
       "      <td>0</td>\n",
       "      <td>0</td>\n",
       "      <td>0</td>\n",
       "      <td>0</td>\n",
       "      <td>0</td>\n",
       "    </tr>\n",
       "    <tr>\n",
       "      <th>3</th>\n",
       "      <td>4642</td>\n",
       "      <td>ham</td>\n",
       "      <td>[havent]</td>\n",
       "      <td>0</td>\n",
       "      <td>0</td>\n",
       "      <td>0</td>\n",
       "      <td>0</td>\n",
       "      <td>0</td>\n",
       "      <td>0</td>\n",
       "      <td>0</td>\n",
       "      <td>...</td>\n",
       "      <td>0</td>\n",
       "      <td>0</td>\n",
       "      <td>0</td>\n",
       "      <td>0</td>\n",
       "      <td>0</td>\n",
       "      <td>0</td>\n",
       "      <td>0</td>\n",
       "      <td>0</td>\n",
       "      <td>0</td>\n",
       "      <td>0</td>\n",
       "    </tr>\n",
       "    <tr>\n",
       "      <th>4</th>\n",
       "      <td>4674</td>\n",
       "      <td>ham</td>\n",
       "      <td>[i, forgot, 2, ask, ü, all, smth, there, s, a,...</td>\n",
       "      <td>0</td>\n",
       "      <td>0</td>\n",
       "      <td>0</td>\n",
       "      <td>0</td>\n",
       "      <td>0</td>\n",
       "      <td>0</td>\n",
       "      <td>0</td>\n",
       "      <td>...</td>\n",
       "      <td>0</td>\n",
       "      <td>0</td>\n",
       "      <td>0</td>\n",
       "      <td>0</td>\n",
       "      <td>0</td>\n",
       "      <td>0</td>\n",
       "      <td>0</td>\n",
       "      <td>0</td>\n",
       "      <td>0</td>\n",
       "      <td>0</td>\n",
       "    </tr>\n",
       "  </tbody>\n",
       "</table>\n",
       "<p>5 rows × 7786 columns</p>\n",
       "</div>"
      ],
      "text/plain": [
       "   index Label                                                SMS  duvet  \\\n",
       "0   1078   ham                  [yep, by, the, pretty, sculpture]      0   \n",
       "1   4028   ham  [yes, princess, are, you, going, to, make, me,...      0   \n",
       "2    958   ham                    [welp, apparently, he, retired]      0   \n",
       "3   4642   ham                                           [havent]      0   \n",
       "4   4674   ham  [i, forgot, 2, ask, ü, all, smth, there, s, a,...      0   \n",
       "\n",
       "   every1  kit  evrey  lady  evry1  didnt  ...  family  responsibility  \\\n",
       "0       0    0      0     0      0      0  ...       0               0   \n",
       "1       0    0      0     0      0      0  ...       0               0   \n",
       "2       0    0      0     0      0      0  ...       0               0   \n",
       "3       0    0      0     0      0      0  ...       0               0   \n",
       "4       0    0      0     0      0      0  ...       0               0   \n",
       "\n",
       "   slacking  yeh  express  insurance  starshine  finn  yay  spice  \n",
       "0         0    0        0          0          0     0    0      0  \n",
       "1         0    0        0          0          0     0    0      0  \n",
       "2         0    0        0          0          0     0    0      0  \n",
       "3         0    0        0          0          0     0    0      0  \n",
       "4         0    0        0          0          0     0    0      0  \n",
       "\n",
       "[5 rows x 7786 columns]"
      ]
     },
     "execution_count": 16,
     "metadata": {},
     "output_type": "execute_result"
    }
   ],
   "source": [
    "train.head()"
   ]
  },
  {
   "cell_type": "markdown",
   "metadata": {},
   "source": [
    "หา p_spam, p_ham, n_spam, n_ham เมื่อ\n",
    "\n",
    "- p_spam คือข้อความที่เป็นแสปมทั้งหมดหารด้วยข้อความทั้งหมด\n",
    "- p_ham คือข้อความที่ไม่เป็นแสปมทั้งหมดหารด้วยข้อความทั้งหมด\n",
    "- n_spam คือจำนวนคำทั้งหมดในข้อความที่เป็นแสปม (เอาทุกคำ ไม่ใช่แค่ unique word)\n",
    "- n_ham คือจำนวนคำทั้งหมดในข้อความที่ไม่เป็นแสปม (เอาทุกคำ ไม่ใช่แค่ unique word)\n",
    "\n",
    "ใช้ Laplace smoothing (α=1)"
   ]
  },
  {
   "cell_type": "code",
   "execution_count": 17,
   "metadata": {},
   "outputs": [
    {
     "name": "stdout",
     "output_type": "stream",
     "text": [
      "0.8654104979811574 0.13458950201884257 57237 15190 7783 1\n"
     ]
    }
   ],
   "source": [
    "p_ham = train[train['Label']=='ham'].shape[0]/train.shape[0]\n",
    "p_spam = 1-p_ham\n",
    "n_ham = sum([len(row) for row in train[train['Label']=='ham']['SMS']])\n",
    "n_spam = sum([len(row) for row in train[train['Label']=='spam']['SMS']])\n",
    "n_vocab = len(vocabulary)\n",
    "alpha = 1\n",
    "print (p_ham, p_spam, n_ham, n_spam, n_vocab, alpha)"
   ]
  },
  {
   "cell_type": "markdown",
   "metadata": {},
   "source": [
    "เนื่องจากสมการ Naive Bayes หน้าตาแบบนี้\n",
    "\n",
    "เพื่อที่จะคำนวนหาความน่าจะเป็นของ spam, given words และ ham, given words เราจะต้องหาความน่าจะเป็นของ words, given spam และ words, given ham ก่อน\n",
    "\n",
    "อย่าลืม apply alpha"
   ]
  },
  {
   "cell_type": "code",
   "execution_count": 18,
   "metadata": {},
   "outputs": [],
   "source": [
    "words_given_spam = {word:0 for word in vocabulary}\n",
    "words_given_ham = {word:0 for word in vocabulary}\n",
    "spam = train[train['Label']=='spam']\n",
    "ham = train[train['Label']=='ham']\n",
    "\n",
    "for word in vocabulary:\n",
    "    words_given_spam[word] = (spam[word].sum()+alpha)/(n_spam+(alpha*n_vocab))\n",
    "    words_given_ham[word] = (ham[word].sum()+alpha)/(n_ham+(alpha*n_vocab))                                                "
   ]
  },
  {
   "cell_type": "markdown",
   "metadata": {},
   "source": [
    "สร้างตัว spam filter ขึ้นมา โดย input = message (string)\n",
    "- <b>Clean</b>: clean string-> list of words, ตัดคำนอก vocabulary ออก \n",
    "- <b>Calculate</b>: คำนวณหาค่าความน่าจะเป็นที่แต่ละคำจะเป้น spam, given message และ ham, given message ด้วย naive bayes (=assume independence)\n",
    "- <b>Compare</b>: นำสองค่านี้มาเทียบกันความน่าจะเป็นใดมากกว่าก็ให้เป็นอันนั้น ถ้าเท่ากันให้มนุษย์ตัดสิน"
   ]
  },
  {
   "cell_type": "code",
   "execution_count": 19,
   "metadata": {},
   "outputs": [],
   "source": [
    "import re\n",
    "def filter(message):\n",
    "    #clean\n",
    "    clean_message = re.sub('\\W',' ', message).lower().split()\n",
    "    clean_message = [word for word in clean_message if word in vocabulary]\n",
    "    #calculation\n",
    "    p_spam_given_message = p_spam\n",
    "    p_ham_given_message = p_ham\n",
    "    for word in clean_message:\n",
    "        p_spam_given_message *= words_given_spam[word]\n",
    "        p_ham_given_message *= words_given_ham[word]\n",
    "    #compares\n",
    "    #print(\"p_spam_given_message = {}\".format(p_spam_given_message))\n",
    "    #print(\"p_non_spam_given_message = {}\".format(p_ham_given_message))\n",
    "    if p_ham_given_message>p_spam_given_message:\n",
    "        return(\"ham\")\n",
    "    elif p_spam_given_message>p_ham_given_message:\n",
    "        return(\"spam\")\n",
    "    else:\n",
    "        return(\"equal probabilities\".format(message))\n",
    "        "
   ]
  },
  {
   "cell_type": "code",
   "execution_count": 20,
   "metadata": {},
   "outputs": [
    {
     "data": {
      "text/plain": [
       "'spam'"
      ]
     },
     "execution_count": 20,
     "metadata": {},
     "output_type": "execute_result"
    }
   ],
   "source": [
    "filter('WINNER!! This is the secret code to unlock the money: C3421.')"
   ]
  },
  {
   "cell_type": "code",
   "execution_count": 21,
   "metadata": {},
   "outputs": [
    {
     "data": {
      "text/plain": [
       "'ham'"
      ]
     },
     "execution_count": 21,
     "metadata": {},
     "output_type": "execute_result"
    }
   ],
   "source": [
    "filter(\"Sounds good, Tom, then see u there\")"
   ]
  },
  {
   "cell_type": "markdown",
   "metadata": {},
   "source": [
    "### Test with test set"
   ]
  },
  {
   "cell_type": "code",
   "execution_count": 22,
   "metadata": {
    "scrolled": true
   },
   "outputs": [
    {
     "data": {
      "text/html": [
       "<div>\n",
       "<style scoped>\n",
       "    .dataframe tbody tr th:only-of-type {\n",
       "        vertical-align: middle;\n",
       "    }\n",
       "\n",
       "    .dataframe tbody tr th {\n",
       "        vertical-align: top;\n",
       "    }\n",
       "\n",
       "    .dataframe thead th {\n",
       "        text-align: right;\n",
       "    }\n",
       "</style>\n",
       "<table border=\"1\" class=\"dataframe\">\n",
       "  <thead>\n",
       "    <tr style=\"text-align: right;\">\n",
       "      <th></th>\n",
       "      <th>index</th>\n",
       "      <th>Label</th>\n",
       "      <th>SMS</th>\n",
       "      <th>prediction</th>\n",
       "    </tr>\n",
       "  </thead>\n",
       "  <tbody>\n",
       "    <tr>\n",
       "      <th>0</th>\n",
       "      <td>2131</td>\n",
       "      <td>ham</td>\n",
       "      <td>Later i guess. I needa do mcat study too.</td>\n",
       "      <td>ham</td>\n",
       "    </tr>\n",
       "    <tr>\n",
       "      <th>1</th>\n",
       "      <td>3418</td>\n",
       "      <td>ham</td>\n",
       "      <td>But i haf enuff space got like 4 mb...</td>\n",
       "      <td>ham</td>\n",
       "    </tr>\n",
       "    <tr>\n",
       "      <th>2</th>\n",
       "      <td>3424</td>\n",
       "      <td>spam</td>\n",
       "      <td>Had your mobile 10 mths? Update to latest Oran...</td>\n",
       "      <td>spam</td>\n",
       "    </tr>\n",
       "    <tr>\n",
       "      <th>3</th>\n",
       "      <td>1538</td>\n",
       "      <td>ham</td>\n",
       "      <td>All sounds good. Fingers . Makes it difficult ...</td>\n",
       "      <td>ham</td>\n",
       "    </tr>\n",
       "    <tr>\n",
       "      <th>4</th>\n",
       "      <td>5393</td>\n",
       "      <td>ham</td>\n",
       "      <td>All done, all handed in. Don't know if mega sh...</td>\n",
       "      <td>ham</td>\n",
       "    </tr>\n",
       "  </tbody>\n",
       "</table>\n",
       "</div>"
      ],
      "text/plain": [
       "   index Label                                                SMS prediction\n",
       "0   2131   ham          Later i guess. I needa do mcat study too.        ham\n",
       "1   3418   ham             But i haf enuff space got like 4 mb...        ham\n",
       "2   3424  spam  Had your mobile 10 mths? Update to latest Oran...       spam\n",
       "3   1538   ham  All sounds good. Fingers . Makes it difficult ...        ham\n",
       "4   5393   ham  All done, all handed in. Don't know if mega sh...        ham"
      ]
     },
     "execution_count": 22,
     "metadata": {},
     "output_type": "execute_result"
    }
   ],
   "source": [
    "test['prediction'] = test['SMS'].apply(filter)\n",
    "test.head()"
   ]
  },
  {
   "cell_type": "code",
   "execution_count": 23,
   "metadata": {},
   "outputs": [
    {
     "name": "stdout",
     "output_type": "stream",
     "text": [
      "accuracy : 98.74326750448833%\n"
     ]
    }
   ],
   "source": [
    "#Test accuracy ((True positive + True negative)/Total)\n",
    "count = 0\n",
    "n_test = len(test)\n",
    "for n,truth in enumerate(test[\"Label\"]):\n",
    "    if truth == test['prediction'].iloc[n]:\n",
    "        count+=1\n",
    "print('accuracy : {}%'.format(count*100/n_test))"
   ]
  },
  {
   "cell_type": "code",
   "execution_count": null,
   "metadata": {},
   "outputs": [],
   "source": []
  }
 ],
 "metadata": {
  "kernelspec": {
   "display_name": "Python 3",
   "language": "python",
   "name": "python3"
  },
  "language_info": {
   "codemirror_mode": {
    "name": "ipython",
    "version": 3
   },
   "file_extension": ".py",
   "mimetype": "text/x-python",
   "name": "python",
   "nbconvert_exporter": "python",
   "pygments_lexer": "ipython3",
   "version": "3.7.6"
  }
 },
 "nbformat": 4,
 "nbformat_minor": 4
}
